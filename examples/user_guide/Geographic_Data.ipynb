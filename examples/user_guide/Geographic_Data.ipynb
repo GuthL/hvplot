{
 "cells": [
  {
   "cell_type": "code",
   "execution_count": null,
   "metadata": {},
   "outputs": [],
   "source": [
    "import xarray as xr\n",
    "import holoplot.pandas\n",
    "import holoplot.xarray\n",
    "import geoviews as gv\n",
    "import cartopy.crs as ccrs\n",
    "\n",
    "from bokeh.sampledata.airport_routes import airports"
   ]
  },
  {
   "cell_type": "markdown",
   "metadata": {},
   "source": [
    "## Installation\n",
    "\n",
    "The plot API also has support for geographic data built on top of Cartopy and GeoViews. Both can be installed using conda with:\n",
    "\n",
    "    conda install -c pyviz geoviews\n",
    "    \n",
    "or if the cartopy dependency has been satisfied in some other way, GeoViews may also be installed using pip:\n",
    "\n",
    "    pip install geoviews\n",
    "\n",
    "## Usage\n",
    "\n",
    "To declare a geographic plot we have to supply a ``cartopy.crs.CRS`` (or coordinate reference system).  Coordinate reference systems are described in the [GeoViews documentation](http://geoviews.org/user_guide/Projections.html) and the full list of available CRSs is in the [cartopy documentation](https://scitools.org.uk/cartopy/docs/v0.15/crs/projections.html). Only certain HoloPlot types support geographic coordinates, currently including: 'points', 'image', 'quadmesh', 'contour' and 'contourf'.\n",
    "\n",
    "As an initial example, consider a dataframe of all US airports (including military bases overseas):"
   ]
  },
  {
   "cell_type": "code",
   "execution_count": null,
   "metadata": {},
   "outputs": [],
   "source": [
    "airports.head(3)"
   ]
  },
  {
   "cell_type": "markdown",
   "metadata": {},
   "source": [
    "### Declaring a coordinate system\n",
    "\n",
    "To plot this data in a geographic context a ``crs`` can be supplied, declaring the coordinate system of the data coordinates. The default CRS for longitudes and latitudes is the ``PlateCarree`` projection. Once the ``crs`` is declared the data can be overlaid on top of ``geoviews.tile_sources`` and ``geoviews.features``:"
   ]
  },
  {
   "cell_type": "code",
   "execution_count": null,
   "metadata": {},
   "outputs": [],
   "source": [
    "gv.tile_sources.ESRI * airports.holoplot.points(\n",
    "    'Longitude', 'Latitude', crs=ccrs.PlateCarree(), color='red', alpha=0.2, height=500,\n",
    "    xlim=(-180, -30), ylim=(0, 72)\n",
    ")"
   ]
  },
  {
   "cell_type": "markdown",
   "metadata": {},
   "source": [
    "### Declaring a projection"
   ]
  },
  {
   "cell_type": "markdown",
   "metadata": {},
   "source": [
    "In addition to supplying a ``crs`` to declare the coordinate system in which the data points are stored, it is also possible to declare how to display the data on a custom ``projection``. After loading the same temperature dataset explored in the [Gridded Data](Gridded_Data.ipynb) section, the data can be displayed on an Orthographic projection:"
   ]
  },
  {
   "cell_type": "code",
   "execution_count": null,
   "metadata": {},
   "outputs": [],
   "source": [
    "air_ds = xr.tutorial.load_dataset('air_temperature')\n",
    "\n",
    "air_ds.holoplot.quadmesh(\n",
    "    'lon', 'lat', 'air', crs=ccrs.PlateCarree(), projection=ccrs.Orthographic(-90, 30),\n",
    "    global_extent=True, width=600, height=540, cmap='viridis'\n",
    ") * gv.feature.coastline"
   ]
  },
  {
   "cell_type": "markdown",
   "metadata": {},
   "source": [
    "Note that when displaying the data in a projection other than the one in which the data is stored, it is usually preferable to render it as a ``quadmesh`` rather than an ``image``. As you can see above, a QuadMesh will project each original bin or pixel into the correct non-rectangular shape, accurately showing the geographic extent covered by each sample. An Image, on the other hand, will always be rectangularly aligned in the 2D plan, which requires warping and resampling the data in a way that allows efficient display but loses accuracy at the pixel level.  Rendering a large QuadMesh using Bokeh can be very slow, but there are two useful alternatives for datasets too large to be practical as native QuadMeshes.\n",
    "\n",
    "The first is using the ``datashade`` or ``rasterize`` options to regrid the data before rendering it, i.e., rendering the data on the backend and then sending a more efficient image-based representation to the browser:"
   ]
  },
  {
   "cell_type": "code",
   "execution_count": null,
   "metadata": {},
   "outputs": [],
   "source": [
    "rasm = xr.tutorial.load_dataset('rasm')\n",
    "\n",
    "rasm.holoplot.quadmesh(\n",
    "    'xc', 'yc', crs=ccrs.PlateCarree(), projection=ccrs.PlateCarree(),\n",
    "    ylim=(0, 90), width=800, height=400, cmap='viridis', rasterize=True \n",
    ") * gv.feature.coastline"
   ]
  },
  {
   "cell_type": "markdown",
   "metadata": {},
   "source": [
    "Another option that's still relatively slow but avoids sending large data into your browser is to plot the data using ``contour`` and ``contourf`` visualizations, generating a line or filled contour with a discrete number of levels:"
   ]
  },
  {
   "cell_type": "code",
   "execution_count": null,
   "metadata": {},
   "outputs": [],
   "source": [
    "rasm.holoplot.contourf(\n",
    "    'xc', 'yc', crs=ccrs.PlateCarree(), projection=ccrs.PlateCarree(),\n",
    "    ylim=(0, 90), width=800, height=400, cmap='viridis', levels=10, \n",
    ") * gv.feature.coastline"
   ]
  },
  {
   "cell_type": "markdown",
   "metadata": {},
   "source": [
    "As you can see, HoloPlot makes it simple to work with geographic data visually.  For more complex plot types and additional details, see the [GeoViews](http://geoviews.org) documentation."
   ]
  }
 ],
 "metadata": {
  "kernelspec": {
   "display_name": "Python 3",
   "language": "python",
   "name": "python3"
  },
  "language_info": {
   "codemirror_mode": {
    "name": "ipython",
    "version": 3
   },
   "file_extension": ".py",
   "mimetype": "text/x-python",
   "name": "python",
   "nbconvert_exporter": "python",
   "pygments_lexer": "ipython3",
   "version": "3.6.4"
  }
 },
 "nbformat": 4,
 "nbformat_minor": 2
}
